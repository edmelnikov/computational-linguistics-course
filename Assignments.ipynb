{
 "cells": [
  {
   "cell_type": "markdown",
   "id": "e947e122",
   "metadata": {},
   "source": [
    "# Melnikov Evgeny 18PMI\n"
   ]
  },
  {
   "cell_type": "code",
   "execution_count": 6,
   "id": "434124ef",
   "metadata": {},
   "outputs": [
    {
     "name": "stdout",
     "output_type": "stream",
     "text": [
      "Requirement already satisfied: pymystem3 in c:\\users\\user\\anaconda3\\lib\\site-packages (0.2.0)\n",
      "Requirement already satisfied: selenium in c:\\users\\user\\anaconda3\\lib\\site-packages (4.1.0)\n",
      "Requirement already satisfied: html2text in c:\\users\\user\\anaconda3\\lib\\site-packages (2020.1.16)\n",
      "Requirement already satisfied: requests in c:\\users\\user\\anaconda3\\lib\\site-packages (2.26.0)\n",
      "Requirement already satisfied: beautifulsoup4 in c:\\users\\user\\anaconda3\\lib\\site-packages (4.9.3)\n",
      "Requirement already satisfied: atlas in c:\\users\\user\\anaconda3\\lib\\site-packages (0.27.0)\n",
      "Requirement already satisfied: json2xml in c:\\users\\user\\anaconda3\\lib\\site-packages (3.9.0)\n",
      "Requirement already satisfied: threadpool>=1.2.4 in c:\\users\\user\\anaconda3\\lib\\site-packages (from atlas) (1.3.2)\n",
      "Requirement already satisfied: soupsieve>1.2 in c:\\users\\user\\anaconda3\\lib\\site-packages (from beautifulsoup4) (2.2.1)\n",
      "Requirement already satisfied: attrs==21.2.0 in c:\\users\\user\\anaconda3\\lib\\site-packages (from json2xml) (21.2.0)\n",
      "Requirement already satisfied: packaging==21.0 in c:\\users\\user\\anaconda3\\lib\\site-packages (from json2xml) (21.0)\n",
      "Requirement already satisfied: pytest==6.2.5 in c:\\users\\user\\anaconda3\\lib\\site-packages (from json2xml) (6.2.5)\n",
      "Requirement already satisfied: py==1.10.0 in c:\\users\\user\\anaconda3\\lib\\site-packages (from json2xml) (1.10.0)\n",
      "Requirement already satisfied: pyparsing==2.4.7 in c:\\users\\user\\anaconda3\\lib\\site-packages (from json2xml) (2.4.7)\n",
      "Requirement already satisfied: xmltodict==0.12.0 in c:\\users\\user\\anaconda3\\lib\\site-packages (from json2xml) (0.12.0)\n",
      "Requirement already satisfied: certifi==2021.5.30 in c:\\users\\user\\anaconda3\\lib\\site-packages (from json2xml) (2021.5.30)\n",
      "Requirement already satisfied: iniconfig==1.1.1 in c:\\users\\user\\anaconda3\\lib\\site-packages (from json2xml) (1.1.1)\n",
      "Requirement already satisfied: toml==0.10.2 in c:\\users\\user\\anaconda3\\lib\\site-packages (from json2xml) (0.10.2)\n",
      "Requirement already satisfied: importlib-metadata==4.8.1 in c:\\users\\user\\anaconda3\\lib\\site-packages (from json2xml) (4.8.1)\n",
      "Requirement already satisfied: typing-extensions==3.10.0.2 in c:\\users\\user\\anaconda3\\lib\\site-packages (from json2xml) (3.10.0.2)\n",
      "Requirement already satisfied: urllib3==1.26.7 in c:\\users\\user\\anaconda3\\lib\\site-packages (from json2xml) (1.26.7)\n",
      "Requirement already satisfied: charset-normalizer==2.0.6 in c:\\users\\user\\anaconda3\\lib\\site-packages (from json2xml) (2.0.6)\n",
      "Requirement already satisfied: pluggy==1.0.0 in c:\\users\\user\\anaconda3\\lib\\site-packages (from json2xml) (1.0.0)\n",
      "Requirement already satisfied: zipp==3.6.0 in c:\\users\\user\\anaconda3\\lib\\site-packages (from json2xml) (3.6.0)\n",
      "Requirement already satisfied: defusedxml==0.7.1 in c:\\users\\user\\anaconda3\\lib\\site-packages (from json2xml) (0.7.1)\n",
      "Requirement already satisfied: idna==3.2 in c:\\users\\user\\anaconda3\\lib\\site-packages (from json2xml) (3.2)\n",
      "Requirement already satisfied: atomicwrites>=1.0 in c:\\users\\user\\anaconda3\\lib\\site-packages (from pytest==6.2.5->json2xml) (1.4.0)\n",
      "Requirement already satisfied: colorama in c:\\users\\user\\anaconda3\\lib\\site-packages (from pytest==6.2.5->json2xml) (0.4.4)\n",
      "Requirement already satisfied: trio-websocket~=0.9 in c:\\users\\user\\anaconda3\\lib\\site-packages (from selenium) (0.9.2)\n",
      "Requirement already satisfied: trio~=0.17 in c:\\users\\user\\anaconda3\\lib\\site-packages (from selenium) (0.19.0)\n",
      "Requirement already satisfied: sortedcontainers in c:\\users\\user\\anaconda3\\lib\\site-packages (from trio~=0.17->selenium) (2.3.0)\n",
      "Requirement already satisfied: cffi>=1.14 in c:\\users\\user\\anaconda3\\lib\\site-packages (from trio~=0.17->selenium) (1.14.5)\n",
      "Requirement already satisfied: outcome in c:\\users\\user\\anaconda3\\lib\\site-packages (from trio~=0.17->selenium) (1.1.0)\n",
      "Requirement already satisfied: sniffio in c:\\users\\user\\anaconda3\\lib\\site-packages (from trio~=0.17->selenium) (1.2.0)\n",
      "Requirement already satisfied: async-generator>=1.9 in c:\\users\\user\\anaconda3\\lib\\site-packages (from trio~=0.17->selenium) (1.10)\n",
      "Requirement already satisfied: pycparser in c:\\users\\user\\anaconda3\\lib\\site-packages (from cffi>=1.14->trio~=0.17->selenium) (2.20)\n",
      "Requirement already satisfied: wsproto>=0.14 in c:\\users\\user\\anaconda3\\lib\\site-packages (from trio-websocket~=0.9->selenium) (1.0.0)\n",
      "Requirement already satisfied: pyOpenSSL>=0.14 in c:\\users\\user\\anaconda3\\lib\\site-packages (from urllib3==1.26.7->json2xml) (20.0.1)\n",
      "Requirement already satisfied: cryptography>=1.3.4 in c:\\users\\user\\anaconda3\\lib\\site-packages (from urllib3==1.26.7->json2xml) (3.4.7)\n",
      "Requirement already satisfied: six>=1.5.2 in c:\\users\\user\\anaconda3\\lib\\site-packages (from pyOpenSSL>=0.14->urllib3==1.26.7->json2xml) (1.15.0)\n",
      "Requirement already satisfied: h11<1,>=0.9.0 in c:\\users\\user\\anaconda3\\lib\\site-packages (from wsproto>=0.14->trio-websocket~=0.9->selenium) (0.12.0)\n"
     ]
    }
   ],
   "source": [
    "!pip install pymystem3 selenium html2text requests beautifulsoup4 atlas json2xml"
   ]
  },
  {
   "cell_type": "code",
   "execution_count": 3,
   "id": "611654cc",
   "metadata": {},
   "outputs": [],
   "source": [
    "from selenium.webdriver import Chrome\n",
    "from selenium.webdriver.chrome.options import Options\n",
    "\n",
    "from time import sleep\n",
    "# import tqdm\n",
    "from tqdm.notebook import tqdm\n",
    "import json\n",
    "import time\n",
    "\n",
    "\n",
    "import requests\n",
    "from bs4 import BeautifulSoup\n",
    "from html2text import html2text\n",
    "\n",
    "import pandas as pd\n",
    "\n",
    "from sklearn.feature_extraction.text import CountVectorizer\n",
    "from IPython.display import clear_output\n",
    "\n",
    "import warnings\n",
    "warnings.filterwarnings('ignore')"
   ]
  },
  {
   "cell_type": "code",
   "execution_count": 57,
   "id": "e6016770",
   "metadata": {},
   "outputs": [],
   "source": [
    "json_filename = \"data.json\"\n",
    "categories = [\"transport\", \"auto\", \"health\", \"incidents\"]"
   ]
  },
  {
   "cell_type": "code",
   "execution_count": 4,
   "id": "7a55fe74",
   "metadata": {},
   "outputs": [],
   "source": [
    "chrome_driver_path = \"chromedriver.exe\""
   ]
  },
  {
   "cell_type": "markdown",
   "id": "7f1bae47",
   "metadata": {},
   "source": [
    "## Lab1\n"
   ]
  },
  {
   "cell_type": "code",
   "execution_count": 3,
   "id": "afb3dd05",
   "metadata": {},
   "outputs": [],
   "source": [
    "# The function extracts article data from www.nn.ru and writes it in JSON format to out_filename\n",
    "# The extracted data is: \n",
    "# - article link (article_id) \n",
    "# - article title \n",
    "# - article category\n",
    "# - article tags \n",
    "# - article text\n",
    "# The category and number of articles is specified by categories and article_num respectively\n",
    "\n",
    "def parse_nnru(article_num, categories, out_filename, progress_bar=True):\n",
    "    # progress bar setup   \n",
    "    if progress_bar:\n",
    "        category_bar = tqdm(range(len(categories)), desc = 'Category progress')\n",
    "        article_bar = tqdm(range(article_num), desc = 'Article progress', leave = False)\n",
    "\n",
    "    # create output json file\n",
    "    with open(out_filename,'w', encoding=\"utf-8\") as file:\n",
    "        pass\n",
    "    \n",
    "    # set Chrome options and preferences\n",
    "    prefs = {\"profile.managed_default_content_settings.images\": 2,\n",
    "             \"profile.default_content_settings.cookies\": 2}\n",
    "    chrome_options = Options()\n",
    "    chrome_options.add_extension('adblock.crx')\n",
    "    chrome_options.add_experimental_option(\"prefs\",prefs) \n",
    "    chrome_options.add_argument('--disable-application-cache')\n",
    "    \n",
    "    driver = Chrome(executable_path=chrome_driver_path, chrome_options=chrome_options)\n",
    "    driver.implicitly_wait(10)\n",
    "    driver.close()\n",
    "    print(\"Current session is {}\".format(driver.session_id))\n",
    "    driver.switch_to.window(driver.window_handles[0])\n",
    "    \n",
    "    driver.get('chrome-extension://gighmmpiobklfepjocnamgkkbiglidom/options.html')\n",
    "    driver.find_element_by_id('acceptable_ads').click() # adblock customization\n",
    "       \n",
    "    for category in categories:\n",
    "        # progress bar\n",
    "        if progress_bar:\n",
    "            category_bar.update(1)\n",
    "            article_bar.reset()\n",
    "            \n",
    "        article_count = 0\n",
    "        page = 1       \n",
    "        while(1):\n",
    "            while_break_flag = False # used to break while(1) from the nested for-loop\n",
    "            \n",
    "            driver.get(f'https://www.nn.ru/text/?rubric={category}&page={page}')           \n",
    "            \n",
    "            #for element in driver.find_elements_by_xpath(\"//article\"):\n",
    "            for element in driver.find_elements_by_xpath(\"//*[@class='_3-SyJ']\"): # tags with this specific class contain article previews\n",
    "                json_dict = {}            \n",
    "                # article's link  \n",
    "                json_dict['article_id'] = element.find_element_by_tag_name('a').get_attribute('href')\n",
    "                \n",
    "                soup = BeautifulSoup(requests.get(json_dict['article_id']).text, \"lxml\")            \n",
    "\n",
    "                # article's title \n",
    "                json_dict['title'] = ''\n",
    "                title = soup.find('h1', attrs={'itemprop': 'headline'}, recursive=True)\n",
    "                if title is None:\n",
    "                    continue\n",
    "                else:\n",
    "                    json_dict['title'] = title.getText()\n",
    "                \n",
    "                # article's category  \n",
    "                json_dict['category'] = category\n",
    "\n",
    "                # article's tags        \n",
    "                json_dict['tags'] = []\n",
    "                div_tags = soup.find('div', attrs={'class': '_2TvYC'}, recursive=True) # <div class=\"_2TvYC\"> contains tags of an article\n",
    "                if div_tags is not None: # some articles may not have tags at all            \n",
    "                    div_tags_children = div_tags.findChildren('span')\n",
    "                    for child in div_tags_children: # iterate over <span> children\n",
    "                        json_dict['tags'].append(child.getText()) # transform type bs4.element.Tag into str and append to a list\n",
    "                else:\n",
    "                    #continue\n",
    "                    pass\n",
    "                \n",
    "                # article's text \n",
    "                json_dict['text'] = ''\n",
    "                div_article = soup.find('div', attrs={'itemprop': 'articleBody'}) # find a <div>, which contains the article itself\n",
    "                if div_article is None: # if the div with an article hasn't been found\n",
    "                    continue                \n",
    "                for figure_tag in div_article.find_all('figure', attrs={'itemscope': 'itemscope'}):\n",
    "                    figure_tag.extract() # remove all <figure itemscope='itemscoppe'> tags, which contain images and image-related text\n",
    "                text = ''\n",
    "                for paragraph in div_article.find_all(['p', 'li'], attrs={'class': ''}):\n",
    "                    json_dict['text'] += paragraph.getText(separator=\" \") + ' ' # s\n",
    "                    # NOTE: there may be double spaces in some places\n",
    "                \n",
    "                # write data to output json file                \n",
    "                with open(out_filename,'a', encoding=\"utf-8\") as file:\n",
    "                    file.write(json.dumps(json_dict, ensure_ascii=False) + '\\n')\n",
    "                \n",
    "                # progress bar\n",
    "                if progress_bar:\n",
    "                    article_bar.update(1)\n",
    "    \n",
    "                # check whether the number of articles is sufficient\n",
    "                article_count+=1\n",
    "                if article_count >= article_num:\n",
    "                    while_break_flag = True\n",
    "                    break\n",
    "                \n",
    "            if while_break_flag is True: # break the while-loop from the inner for-loop if the amount of fetched articles is sufficient\n",
    "                break\n",
    "            else:\n",
    "                page+= 1 # otherwise, fetch articles from the next page    \n",
    "        \n",
    "    driver.quit()\n"
   ]
  },
  {
   "cell_type": "code",
   "execution_count": 4,
   "id": "36b6b670",
   "metadata": {
    "scrolled": false
   },
   "outputs": [
    {
     "data": {
      "application/vnd.jupyter.widget-view+json": {
       "model_id": "8a64d77f5f8042edb83b073dcbfe7ba4",
       "version_major": 2,
       "version_minor": 0
      },
      "text/plain": [
       "Category progress:   0%|          | 0/4 [00:00<?, ?it/s]"
      ]
     },
     "metadata": {},
     "output_type": "display_data"
    },
    {
     "data": {
      "application/vnd.jupyter.widget-view+json": {
       "model_id": "d83f62289edf46e8bddaabb1aa3541ef",
       "version_major": 2,
       "version_minor": 0
      },
      "text/plain": [
       "Article progress:   0%|          | 0/1000 [00:00<?, ?it/s]"
      ]
     },
     "metadata": {},
     "output_type": "display_data"
    },
    {
     "name": "stdout",
     "output_type": "stream",
     "text": [
      "Current session is 70a471e794ddfd8d811daa0b572a4862\n"
     ]
    }
   ],
   "source": [
    "parse_nnru(1000, categories, json_filename)"
   ]
  },
  {
   "cell_type": "code",
   "execution_count": null,
   "id": "fb9ff010",
   "metadata": {
    "scrolled": false
   },
   "outputs": [],
   "source": [
    "data = pd.read_json(json_filename, lines=True)\n",
    "data"
   ]
  },
  {
   "cell_type": "markdown",
   "id": "042855b0",
   "metadata": {},
   "source": [
    "## Lab 2\n"
   ]
  },
  {
   "cell_type": "code",
   "execution_count": 1,
   "id": "92445ec5",
   "metadata": {},
   "outputs": [
    {
     "name": "stdout",
     "output_type": "stream",
     "text": [
      "Requirement already satisfied: nltk in c:\\users\\user\\anaconda3\\lib\\site-packages (3.6.1)\n",
      "Collecting sklearn\n",
      "  Downloading sklearn-0.0.tar.gz (1.1 kB)\n",
      "Collecting wordcloud\n",
      "  Downloading wordcloud-1.8.1-cp38-cp38-win_amd64.whl (155 kB)\n",
      "Collecting pymorphy2\n",
      "  Downloading pymorphy2-0.9.1-py3-none-any.whl (55 kB)\n",
      "Collecting stop_words\n",
      "  Downloading stop-words-2018.7.23.tar.gz (31 kB)\n",
      "Requirement already satisfied: click in c:\\users\\user\\anaconda3\\lib\\site-packages (from nltk) (7.1.2)\n",
      "Requirement already satisfied: tqdm in c:\\users\\user\\anaconda3\\lib\\site-packages (from nltk) (4.59.0)\n",
      "Requirement already satisfied: regex in c:\\users\\user\\anaconda3\\lib\\site-packages (from nltk) (2021.4.4)\n",
      "Requirement already satisfied: joblib in c:\\users\\user\\anaconda3\\lib\\site-packages (from nltk) (1.0.1)\n",
      "Collecting dawg-python>=0.7.1\n",
      "  Downloading DAWG_Python-0.7.2-py2.py3-none-any.whl (11 kB)\n",
      "Collecting pymorphy2-dicts-ru<3.0,>=2.4\n",
      "  Downloading pymorphy2_dicts_ru-2.4.417127.4579844-py2.py3-none-any.whl (8.2 MB)\n",
      "Collecting docopt>=0.6\n",
      "  Downloading docopt-0.6.2.tar.gz (25 kB)\n",
      "Requirement already satisfied: scikit-learn in c:\\users\\user\\anaconda3\\lib\\site-packages (from sklearn) (0.24.1)\n",
      "Requirement already satisfied: numpy>=1.6.1 in c:\\users\\user\\anaconda3\\lib\\site-packages (from wordcloud) (1.19.5)\n",
      "Requirement already satisfied: matplotlib in c:\\users\\user\\anaconda3\\lib\\site-packages (from wordcloud) (3.3.4)\n",
      "Requirement already satisfied: pillow in c:\\users\\user\\anaconda3\\lib\\site-packages (from wordcloud) (8.2.0)\n",
      "Requirement already satisfied: kiwisolver>=1.0.1 in c:\\users\\user\\anaconda3\\lib\\site-packages (from matplotlib->wordcloud) (1.3.1)\n",
      "Requirement already satisfied: cycler>=0.10 in c:\\users\\user\\anaconda3\\lib\\site-packages (from matplotlib->wordcloud) (0.10.0)\n",
      "Requirement already satisfied: python-dateutil>=2.1 in c:\\users\\user\\anaconda3\\lib\\site-packages (from matplotlib->wordcloud) (2.8.1)\n",
      "Requirement already satisfied: pyparsing!=2.0.4,!=2.1.2,!=2.1.6,>=2.0.3 in c:\\users\\user\\anaconda3\\lib\\site-packages (from matplotlib->wordcloud) (2.4.7)\n",
      "Requirement already satisfied: six in c:\\users\\user\\anaconda3\\lib\\site-packages (from cycler>=0.10->matplotlib->wordcloud) (1.15.0)\n",
      "Requirement already satisfied: threadpoolctl>=2.0.0 in c:\\users\\user\\anaconda3\\lib\\site-packages (from scikit-learn->sklearn) (2.1.0)\n",
      "Requirement already satisfied: scipy>=0.19.1 in c:\\users\\user\\anaconda3\\lib\\site-packages (from scikit-learn->sklearn) (1.6.2)\n",
      "Building wheels for collected packages: docopt, sklearn, stop-words\n",
      "  Building wheel for docopt (setup.py): started\n",
      "  Building wheel for docopt (setup.py): finished with status 'done'\n",
      "  Created wheel for docopt: filename=docopt-0.6.2-py2.py3-none-any.whl size=13705 sha256=327cc1b124262a06ac7aa54fe02c6545a95aa559034031a977bfac76b54fc274\n",
      "  Stored in directory: c:\\users\\user\\appdata\\local\\pip\\cache\\wheels\\56\\ea\\58\\ead137b087d9e326852a851351d1debf4ada529b6ac0ec4e8c\n",
      "  Building wheel for sklearn (setup.py): started\n",
      "  Building wheel for sklearn (setup.py): finished with status 'done'\n",
      "  Created wheel for sklearn: filename=sklearn-0.0-py2.py3-none-any.whl size=1316 sha256=5240080757c8c051d2538ae6c08620776000b9ff320485608a9c190f43733357\n",
      "  Stored in directory: c:\\users\\user\\appdata\\local\\pip\\cache\\wheels\\22\\0b\\40\\fd3f795caaa1fb4c6cb738bc1f56100be1e57da95849bfc897\n",
      "  Building wheel for stop-words (setup.py): started\n",
      "  Building wheel for stop-words (setup.py): finished with status 'done'\n",
      "  Created wheel for stop-words: filename=stop_words-2018.7.23-py3-none-any.whl size=32916 sha256=556469d6f6b946a243307971d2f855758c6d4671544214e70626d0a98cc19269\n",
      "  Stored in directory: c:\\users\\user\\appdata\\local\\pip\\cache\\wheels\\eb\\03\\0d\\3bd31c983789aeb0b4d5e2ca48590288d9db1586cf5f225062\n",
      "Successfully built docopt sklearn stop-words\n",
      "Installing collected packages: pymorphy2-dicts-ru, docopt, dawg-python, wordcloud, stop-words, sklearn, pymorphy2\n",
      "Successfully installed dawg-python-0.7.2 docopt-0.6.2 pymorphy2-0.9.1 pymorphy2-dicts-ru-2.4.417127.4579844 sklearn-0.0 stop-words-2018.7.23 wordcloud-1.8.1\n"
     ]
    }
   ],
   "source": [
    "!pip install nltk sklearn wordcloud pymorphy2 stop_words"
   ]
  },
  {
   "cell_type": "code",
   "execution_count": 5,
   "id": "9b533336",
   "metadata": {},
   "outputs": [
    {
     "name": "stderr",
     "output_type": "stream",
     "text": [
      "[nltk_data] Downloading package stopwords to\n",
      "[nltk_data]     C:\\Users\\user\\AppData\\Roaming\\nltk_data...\n",
      "[nltk_data]   Package stopwords is already up-to-date!\n",
      "[nltk_data] Downloading package punkt to\n",
      "[nltk_data]     C:\\Users\\user\\AppData\\Roaming\\nltk_data...\n",
      "[nltk_data]   Package punkt is already up-to-date!\n"
     ]
    }
   ],
   "source": [
    "import pandas as pd\n",
    "import numpy as np\n",
    "import matplotlib.pyplot as plt\n",
    "import re\n",
    "import string\n",
    "import pymorphy2\n",
    "from scipy.sparse import *\n",
    "import stop_words\n",
    "import nltk\n",
    "nltk.download('stopwords')\n",
    "nltk.download('punkt')\n",
    "from nltk.stem.snowball import RussianStemmer\n",
    "from nltk.tokenize import sent_tokenize, word_tokenize \n",
    "from nltk.stem import PorterStemmer, WordNetLemmatizer\n",
    "from nltk.corpus import stopwords\n",
    "\n",
    "from sklearn.feature_extraction.text import TfidfVectorizer\n",
    "from tqdm.notebook import tqdm\n",
    "\n",
    "%matplotlib inline"
   ]
  },
  {
   "cell_type": "code",
   "execution_count": 9,
   "id": "dc1b9067",
   "metadata": {
    "scrolled": true
   },
   "outputs": [],
   "source": [
    "raw_data = pd.read_json(json_filename, lines=True)"
   ]
  },
  {
   "cell_type": "markdown",
   "id": "3655763f",
   "metadata": {},
   "source": [
    "### 1. Text preprocessing"
   ]
  },
  {
   "cell_type": "code",
   "execution_count": 10,
   "id": "85dbf78d",
   "metadata": {
    "scrolled": true
   },
   "outputs": [],
   "source": [
    "# the function preprocesses input text, i. e. removes digits, punctuation, special characters, etc.\n",
    "# and converts words to normal form.\n",
    "# As for return value, the preprocessed text is either left as is, tokenized by words or tokenized by sentences.\n",
    "\n",
    "def preprocess_text(input_text, tokenize_by='sentence'):\n",
    "    \n",
    "    if tokenize_by != 'word' and tokenize_by != 'sentence' and tokenize_by != 'text':\n",
    "        raise Exception(\"tokenize_by can only be 'word', 'sentence' or 'text'\")\n",
    "    \n",
    "    # copy a string\n",
    "    output_text = input_text[:]\n",
    "    \n",
    "    # convert letters to lowercase\n",
    "    output_text = output_text.lower() \n",
    "    \n",
    "    # remove multiple spaces \n",
    "    output_text = re.sub(r' +', \n",
    "                         ' ', \n",
    "                         output_text)\n",
    "    \n",
    "    # remove links\n",
    "    output_text = re.sub(r'((http|https)\\:\\/\\/)?[a-zA-Z0-9\\.\\/\\?\\:@\\-_=#]+\\.([a-zA-Z]){2,6}([a-zA-Z0-9\\.\\&\\/\\?\\:@\\-—_=#])*', \n",
    "                                          '', \n",
    "                                          output_text)\n",
    "    \n",
    "    # remove email addresses\n",
    "    output_text = re.sub(r'^([a-zA-Z0-9_\\-\\.]+)@([a-zA-Z0-9_\\-\\.]+)\\.([a-zA-Z]{2,5})$', \n",
    "                                          '', \n",
    "                                          output_text) \n",
    "\n",
    "    # remove phone numbers (not working)\n",
    "    output_text = re.sub(r'^(?:\\s*-*\\s*\\d){8}$', \n",
    "                                          '', \n",
    "                                          output_text)\n",
    "\n",
    "    # tokenize sentences\n",
    "    output_text = sent_tokenize(output_text) \n",
    "    \n",
    "    # remove special characters\n",
    "    special_chars = ''.join(['№', '«', 'ђ', '°', '±', '‚', 'ћ', '‰', '…', '»', 'ѓ', 'µ', '·', 'ґ', 'њ', 'ї', 'џ', 'є', '‹',\n",
    "                                '‡', '†', '¶', 'ќ', '€', '“', 'ў', '§', '„', '”', '\\ufeff', '’', 'љ', '›', '•', '—', '‘', \n",
    "                                '\\x7f', '\\xad', '¤', '\\xa0'])\n",
    "    regex_special_chars = re.compile(f'[{re.escape(special_chars)}]')\n",
    "    output_text = [regex_special_chars.sub('', sent) for sent in output_text]\n",
    "    \n",
    "    # remove all punctuation\n",
    "    regex_punct = re.compile(f'[{re.escape(string.punctuation)}]') # punctuation to exclude \n",
    "    output_text = [regex_punct.sub('', sent) for sent in output_text]\n",
    "    \n",
    "    # remove all digits\n",
    "    regex_dig = re.compile(f'[{re.escape(string.digits)}]')\n",
    "    output_text = [regex_dig.sub('', sent) for sent in output_text]\n",
    "    \n",
    "    # tokenize words \n",
    "    output_text = [word_tokenize(sent) for sent in output_text]\n",
    "    \n",
    "    # exclude stop-words\n",
    "    stop_words_list = stopwords.words('russian') # nltk package\n",
    "    # stop_words_list = stop_words.get_stop_words('russian') # stop_words package   \n",
    "    output_text = [[word for word in sent if word not in stop_words_list] for sent in output_text] # kinda unreadable?\n",
    "    \n",
    "    # lemmatize (convert words to the base/normal form)\n",
    "    morph = pymorphy2.MorphAnalyzer()\n",
    "    output_text = [[morph.parse(word)[0].normal_form for word in sent if word not in stop_words_list] for sent in output_text] \n",
    "    \n",
    "    if tokenize_by == 'word':  \n",
    "        return output_text\n",
    "    elif tokenize_by == 'sentence':\n",
    "        return [' '.join(sent) for sent in output_text]\n",
    "    elif tokenize_by == 'text':\n",
    "        return ' '.join([' '.join(sent) for sent in output_text])\n"
   ]
  },
  {
   "cell_type": "markdown",
   "id": "4b07c074",
   "metadata": {},
   "source": [
    "### 2. Text vectorization (with preprocessing)"
   ]
  },
  {
   "cell_type": "code",
   "execution_count": 11,
   "id": "cb698d30",
   "metadata": {
    "scrolled": false
   },
   "outputs": [],
   "source": [
    "# The function goes through the data from JSON, preprocesses the text of each entry using preprocess_text() function\n",
    "# and vectorizes the texts using TfidVectorizer()\n",
    "\n",
    "def vectorize_text_all(raw_input_data):\n",
    "    raw_input_data_len = raw_input_data.shape[0] # number of rows\n",
    "    # raw_input_data_len = 100\n",
    "    texts = []\n",
    "    y = [] \n",
    "\n",
    "    bar = tqdm(range(raw_input_data_len), desc = 'Article progress')\n",
    "    for i in range(raw_input_data_len):\n",
    "        texts.append(preprocess_text(raw_input_data['text'][i], tokenize_by='text'))\n",
    "        y.append(raw_input_data['category'][i])\n",
    "        bar.update(1)   \n",
    "    bar.close()\n",
    "\n",
    "    vectorizer = TfidfVectorizer()    \n",
    "    X = vectorizer.fit_transform(texts)\n",
    "    X = X.toarray()\n",
    "    X = pd.DataFrame(data=X, columns=vectorizer.get_feature_names())\n",
    "    \n",
    "    return X, y"
   ]
  },
  {
   "cell_type": "code",
   "execution_count": 12,
   "id": "0ec912c1",
   "metadata": {
    "scrolled": true
   },
   "outputs": [
    {
     "data": {
      "application/vnd.jupyter.widget-view+json": {
       "model_id": "3027d3f46744450dadbbbcf433ea3010",
       "version_major": 2,
       "version_minor": 0
      },
      "text/plain": [
       "Article progress:   0%|          | 0/4000 [00:00<?, ?it/s]"
      ]
     },
     "metadata": {},
     "output_type": "display_data"
    }
   ],
   "source": [
    "X, y = vectorize_text_all(raw_data)"
   ]
  },
  {
   "cell_type": "markdown",
   "id": "cb7e0d18",
   "metadata": {},
   "source": [
    "### 3. Experiments with classic ML algorithms"
   ]
  },
  {
   "cell_type": "code",
   "execution_count": 29,
   "id": "76cb12d6",
   "metadata": {},
   "outputs": [],
   "source": [
    "from sklearn.model_selection import train_test_split, GridSearchCV\n",
    "from sklearn.metrics import classification_report\n",
    "\n",
    "X_train, X_test, y_train, y_test = train_test_split(X, y, test_size=0.2, random_state=42, shuffle=True, stratify=y)"
   ]
  },
  {
   "cell_type": "markdown",
   "id": "1450faae",
   "metadata": {},
   "source": [
    "The train and test sets are split 80/20. \n",
    "\n",
    "The classes are balanced in both test and train samples:"
   ]
  },
  {
   "cell_type": "code",
   "execution_count": 30,
   "id": "d754129d",
   "metadata": {},
   "outputs": [
    {
     "data": {
      "text/plain": [
       "<AxesSubplot:>"
      ]
     },
     "execution_count": 30,
     "metadata": {},
     "output_type": "execute_result"
    },
    {
     "data": {
      "image/png": "[encoded data removed]",
      "text/plain": [
       "<Figure size 432x288 with 1 Axes>"
      ]
     },
     "metadata": {
      "needs_background": "light"
     },
     "output_type": "display_data"
    }
   ],
   "source": [
    "pd.Series(y_test).value_counts().plot(kind='barh')"
   ]
  },
  {
   "cell_type": "code",
   "execution_count": 31,
   "id": "ff83faa8",
   "metadata": {},
   "outputs": [
    {
     "data": {
      "text/plain": [
       "<AxesSubplot:>"
      ]
     },
     "execution_count": 31,
     "metadata": {},
     "output_type": "execute_result"
    },
    {
     "data": {
      "image/png": "[encoded data removed]",
      "text/plain": [
       "<Figure size 432x288 with 1 Axes>"
      ]
     },
     "metadata": {
      "needs_background": "light"
     },
     "output_type": "display_data"
    }
   ],
   "source": [
    "pd.Series(y_train).value_counts().plot(kind='barh')"
   ]
  },
  {
   "cell_type": "markdown",
   "id": "5182ad9b",
   "metadata": {},
   "source": [
    "GridSearchCV will be used for hyperparameter tuning. The best hyperparameters are chosen by the highest f-1 value"
   ]
  },
  {
   "cell_type": "markdown",
   "id": "f5b7410c",
   "metadata": {},
   "source": [
    "#### 3.1 KNN"
   ]
  },
  {
   "cell_type": "code",
   "execution_count": 39,
   "id": "37008797",
   "metadata": {},
   "outputs": [
    {
     "name": "stdout",
     "output_type": "stream",
     "text": [
      "Fitting 2 folds for each of 16 candidates, totalling 32 fits\n",
      "[CV 1/2] END metric=minkowski, n_neighbors=2, weights=distance; total time=   4.8s\n",
      "[CV 2/2] END metric=minkowski, n_neighbors=2, weights=distance; total time=   4.8s\n",
      "[CV 1/2] END metric=minkowski, n_neighbors=2, weights=uniform; total time=   4.2s\n",
      "[CV 2/2] END metric=minkowski, n_neighbors=2, weights=uniform; total time=   4.0s\n",
      "[CV 1/2] END metric=minkowski, n_neighbors=4, weights=distance; total time=   4.3s\n",
      "[CV 2/2] END metric=minkowski, n_neighbors=4, weights=distance; total time=   4.0s\n",
      "[CV 1/2] END metric=minkowski, n_neighbors=4, weights=uniform; total time=   4.0s\n",
      "[CV 2/2] END metric=minkowski, n_neighbors=4, weights=uniform; total time=   4.8s\n",
      "[CV 1/2] END metric=minkowski, n_neighbors=8, weights=distance; total time=   4.4s\n",
      "[CV 2/2] END metric=minkowski, n_neighbors=8, weights=distance; total time=   5.1s\n",
      "[CV 1/2] END metric=minkowski, n_neighbors=8, weights=uniform; total time=   5.0s\n",
      "[CV 2/2] END metric=minkowski, n_neighbors=8, weights=uniform; total time=   4.9s\n",
      "[CV 1/2] END metric=minkowski, n_neighbors=16, weights=distance; total time=   5.0s\n",
      "[CV 2/2] END metric=minkowski, n_neighbors=16, weights=distance; total time=   4.9s\n",
      "[CV 1/2] END metric=minkowski, n_neighbors=16, weights=uniform; total time=   4.8s\n",
      "[CV 2/2] END metric=minkowski, n_neighbors=16, weights=uniform; total time=   4.9s\n",
      "[CV 1/2] END metric=euclidean, n_neighbors=2, weights=distance; total time=   4.9s\n",
      "[CV 2/2] END metric=euclidean, n_neighbors=2, weights=distance; total time=   4.7s\n",
      "[CV 1/2] END metric=euclidean, n_neighbors=2, weights=uniform; total time=   4.9s\n",
      "[CV 2/2] END metric=euclidean, n_neighbors=2, weights=uniform; total time=   4.7s\n",
      "[CV 1/2] END metric=euclidean, n_neighbors=4, weights=distance; total time=   4.9s\n",
      "[CV 2/2] END metric=euclidean, n_neighbors=4, weights=distance; total time=   4.9s\n",
      "[CV 1/2] END metric=euclidean, n_neighbors=4, weights=uniform; total time=   4.7s\n",
      "[CV 2/2] END metric=euclidean, n_neighbors=4, weights=uniform; total time=   4.7s\n",
      "[CV 1/2] END metric=euclidean, n_neighbors=8, weights=distance; total time=   4.6s\n",
      "[CV 2/2] END metric=euclidean, n_neighbors=8, weights=distance; total time=   4.7s\n",
      "[CV 1/2] END metric=euclidean, n_neighbors=8, weights=uniform; total time=   4.6s\n",
      "[CV 2/2] END metric=euclidean, n_neighbors=8, weights=uniform; total time=   4.7s\n",
      "[CV 1/2] END metric=euclidean, n_neighbors=16, weights=distance; total time=   4.9s\n",
      "[CV 2/2] END metric=euclidean, n_neighbors=16, weights=distance; total time=   4.7s\n",
      "[CV 1/2] END metric=euclidean, n_neighbors=16, weights=uniform; total time=   5.4s\n",
      "[CV 2/2] END metric=euclidean, n_neighbors=16, weights=uniform; total time=   4.9s\n"
     ]
    },
    {
     "data": {
      "text/plain": [
       "{'metric': 'minkowski', 'n_neighbors': 2, 'weights': 'distance'}"
      ]
     },
     "execution_count": 39,
     "metadata": {},
     "output_type": "execute_result"
    }
   ],
   "source": [
    "from sklearn.neighbors import KNeighborsClassifier\n",
    "\n",
    "params = {\n",
    "    'n_neighbors': [2, 4, 8, 16],\n",
    "    'weights': ['distance', 'uniform'],\n",
    "    'metric': ['minkowski', 'euclidean']\n",
    "}\n",
    "\n",
    "gs_knn = GridSearchCV(\n",
    "    KNeighborsClassifier(),\n",
    "    params,\n",
    "    scoring='f1',\n",
    "    verbose=3,\n",
    "    cv=2,\n",
    "    n_jobs=1,\n",
    ")\n",
    "\n",
    "# knn = KNeighborsClassifier(n_neighbors=2)\n",
    "gs_knn.fit(X_train, y_train)\n",
    "gs_knn.best_params_"
   ]
  },
  {
   "cell_type": "code",
   "execution_count": 40,
   "id": "e2d126e5",
   "metadata": {},
   "outputs": [
    {
     "name": "stdout",
     "output_type": "stream",
     "text": [
      "              precision    recall  f1-score   support\n",
      "\n",
      "        auto       0.97      0.31      0.47       634\n",
      "      health       0.27      0.98      0.42        55\n",
      "   incidents       0.18      0.90      0.30        40\n",
      "   transport       0.32      0.90      0.47        71\n",
      "\n",
      "    accuracy                           0.44       800\n",
      "   macro avg       0.44      0.77      0.42       800\n",
      "weighted avg       0.83      0.44      0.46       800\n",
      "\n"
     ]
    }
   ],
   "source": [
    "y_pred = gs_knn.predict(X_test)\n",
    "print(classification_report(y_pred, y_test))"
   ]
  },
  {
   "cell_type": "markdown",
   "id": "244650d2",
   "metadata": {},
   "source": [
    "Seems like KNN prefers the \"auto\" class for some reason, therefore, the f1-score is low"
   ]
  },
  {
   "cell_type": "markdown",
   "id": "fb2c8361",
   "metadata": {},
   "source": [
    "#### 3.2 Decision tree"
   ]
  },
  {
   "cell_type": "code",
   "execution_count": 37,
   "id": "27838a32",
   "metadata": {
    "scrolled": false
   },
   "outputs": [
    {
     "name": "stdout",
     "output_type": "stream",
     "text": [
      "Fitting 2 folds for each of 60 candidates, totalling 120 fits\n",
      "[CV 1/2] END max_depth=4, min_samples_leaf=1, min_samples_split=2; total time=   5.3s\n",
      "[CV 2/2] END max_depth=4, min_samples_leaf=1, min_samples_split=2; total time=   5.4s\n",
      "[CV 1/2] END max_depth=4, min_samples_leaf=1, min_samples_split=5; total time=   5.5s\n",
      "[CV 2/2] END max_depth=4, min_samples_leaf=1, min_samples_split=5; total time=   5.5s\n",
      "[CV 1/2] END max_depth=4, min_samples_leaf=1, min_samples_split=10; total time=   5.8s\n",
      "[CV 2/2] END max_depth=4, min_samples_leaf=1, min_samples_split=10; total time=   5.8s\n",
      "[CV 1/2] END max_depth=4, min_samples_leaf=2, min_samples_split=2; total time=   5.8s\n",
      "[CV 2/2] END max_depth=4, min_samples_leaf=2, min_samples_split=2; total time=   5.9s\n",
      "[CV 1/2] END max_depth=4, min_samples_leaf=2, min_samples_split=5; total time=   5.7s\n",
      "[CV 2/2] END max_depth=4, min_samples_leaf=2, min_samples_split=5; total time=   9.9s\n",
      "[CV 1/2] END max_depth=4, min_samples_leaf=2, min_samples_split=10; total time=  10.0s\n",
      "[CV 2/2] END max_depth=4, min_samples_leaf=2, min_samples_split=10; total time=  11.0s\n",
      "[CV 1/2] END max_depth=4, min_samples_leaf=4, min_samples_split=2; total time=   6.9s\n",
      "[CV 2/2] END max_depth=4, min_samples_leaf=4, min_samples_split=2; total time=   6.1s\n",
      "[CV 1/2] END max_depth=4, min_samples_leaf=4, min_samples_split=5; total time=   6.3s\n",
      "[CV 2/2] END max_depth=4, min_samples_leaf=4, min_samples_split=5; total time=   5.7s\n",
      "[CV 1/2] END max_depth=4, min_samples_leaf=4, min_samples_split=10; total time=   5.5s\n",
      "[CV 2/2] END max_depth=4, min_samples_leaf=4, min_samples_split=10; total time=   9.1s\n",
      "[CV 1/2] END max_depth=4, min_samples_leaf=8, min_samples_split=2; total time=   7.4s\n",
      "[CV 2/2] END max_depth=4, min_samples_leaf=8, min_samples_split=2; total time=   5.9s\n",
      "[CV 1/2] END max_depth=4, min_samples_leaf=8, min_samples_split=5; total time=   5.9s\n",
      "[CV 2/2] END max_depth=4, min_samples_leaf=8, min_samples_split=5; total time=   9.5s\n",
      "[CV 1/2] END max_depth=4, min_samples_leaf=8, min_samples_split=10; total time=   8.6s\n",
      "[CV 2/2] END max_depth=4, min_samples_leaf=8, min_samples_split=10; total time=   6.9s\n",
      "[CV 1/2] END max_depth=8, min_samples_leaf=1, min_samples_split=2; total time=  11.0s\n",
      "[CV 2/2] END max_depth=8, min_samples_leaf=1, min_samples_split=2; total time=   7.3s\n",
      "[CV 1/2] END max_depth=8, min_samples_leaf=1, min_samples_split=5; total time=   7.6s\n",
      "[CV 2/2] END max_depth=8, min_samples_leaf=1, min_samples_split=5; total time=   7.5s\n",
      "[CV 1/2] END max_depth=8, min_samples_leaf=1, min_samples_split=10; total time=   7.5s\n",
      "[CV 2/2] END max_depth=8, min_samples_leaf=1, min_samples_split=10; total time=  11.5s\n",
      "[CV 1/2] END max_depth=8, min_samples_leaf=2, min_samples_split=2; total time=   9.7s\n",
      "[CV 2/2] END max_depth=8, min_samples_leaf=2, min_samples_split=2; total time=  10.3s\n",
      "[CV 1/2] END max_depth=8, min_samples_leaf=2, min_samples_split=5; total time=  10.1s\n",
      "[CV 2/2] END max_depth=8, min_samples_leaf=2, min_samples_split=5; total time=   7.3s\n",
      "[CV 1/2] END max_depth=8, min_samples_leaf=2, min_samples_split=10; total time=   7.3s\n",
      "[CV 2/2] END max_depth=8, min_samples_leaf=2, min_samples_split=10; total time=   7.1s\n",
      "[CV 1/2] END max_depth=8, min_samples_leaf=4, min_samples_split=2; total time=   7.4s\n",
      "[CV 2/2] END max_depth=8, min_samples_leaf=4, min_samples_split=2; total time=   9.0s\n",
      "[CV 1/2] END max_depth=8, min_samples_leaf=4, min_samples_split=5; total time=   8.9s\n",
      "[CV 2/2] END max_depth=8, min_samples_leaf=4, min_samples_split=5; total time=   9.3s\n",
      "[CV 1/2] END max_depth=8, min_samples_leaf=4, min_samples_split=10; total time=   9.2s\n",
      "[CV 2/2] END max_depth=8, min_samples_leaf=4, min_samples_split=10; total time=   8.1s\n",
      "[CV 1/2] END max_depth=8, min_samples_leaf=8, min_samples_split=2; total time=   9.5s\n",
      "[CV 2/2] END max_depth=8, min_samples_leaf=8, min_samples_split=2; total time=  12.4s\n",
      "[CV 1/2] END max_depth=8, min_samples_leaf=8, min_samples_split=5; total time=   8.7s\n",
      "[CV 2/2] END max_depth=8, min_samples_leaf=8, min_samples_split=5; total time=   9.8s\n",
      "[CV 1/2] END max_depth=8, min_samples_leaf=8, min_samples_split=10; total time=   8.3s\n",
      "[CV 2/2] END max_depth=8, min_samples_leaf=8, min_samples_split=10; total time=  11.2s\n",
      "[CV 1/2] END max_depth=16, min_samples_leaf=1, min_samples_split=2; total time=  11.5s\n",
      "[CV 2/2] END max_depth=16, min_samples_leaf=1, min_samples_split=2; total time=   9.0s\n",
      "[CV 1/2] END max_depth=16, min_samples_leaf=1, min_samples_split=5; total time=   8.8s\n",
      "[CV 2/2] END max_depth=16, min_samples_leaf=1, min_samples_split=5; total time=   9.8s\n",
      "[CV 1/2] END max_depth=16, min_samples_leaf=1, min_samples_split=10; total time=  13.1s\n",
      "[CV 2/2] END max_depth=16, min_samples_leaf=1, min_samples_split=10; total time=  11.0s\n",
      "[CV 1/2] END max_depth=16, min_samples_leaf=2, min_samples_split=2; total time=   8.4s\n",
      "[CV 2/2] END max_depth=16, min_samples_leaf=2, min_samples_split=2; total time=  10.3s\n",
      "[CV 1/2] END max_depth=16, min_samples_leaf=2, min_samples_split=5; total time=  10.9s\n",
      "[CV 2/2] END max_depth=16, min_samples_leaf=2, min_samples_split=5; total time=   8.7s\n",
      "[CV 1/2] END max_depth=16, min_samples_leaf=2, min_samples_split=10; total time=  10.1s\n",
      "[CV 2/2] END max_depth=16, min_samples_leaf=2, min_samples_split=10; total time=  11.0s\n",
      "[CV 1/2] END max_depth=16, min_samples_leaf=4, min_samples_split=2; total time=   9.8s\n",
      "[CV 2/2] END max_depth=16, min_samples_leaf=4, min_samples_split=2; total time=   8.7s\n",
      "[CV 1/2] END max_depth=16, min_samples_leaf=4, min_samples_split=5; total time=   8.6s\n",
      "[CV 2/2] END max_depth=16, min_samples_leaf=4, min_samples_split=5; total time=   8.5s\n",
      "[CV 1/2] END max_depth=16, min_samples_leaf=4, min_samples_split=10; total time=   9.9s\n",
      "[CV 2/2] END max_depth=16, min_samples_leaf=4, min_samples_split=10; total time=  10.0s\n",
      "[CV 1/2] END max_depth=16, min_samples_leaf=8, min_samples_split=2; total time=  10.3s\n",
      "[CV 2/2] END max_depth=16, min_samples_leaf=8, min_samples_split=2; total time=  10.3s\n",
      "[CV 1/2] END max_depth=16, min_samples_leaf=8, min_samples_split=5; total time=  16.3s\n",
      "[CV 2/2] END max_depth=16, min_samples_leaf=8, min_samples_split=5; total time=  10.9s\n",
      "[CV 1/2] END max_depth=16, min_samples_leaf=8, min_samples_split=10; total time=   8.1s\n",
      "[CV 2/2] END max_depth=16, min_samples_leaf=8, min_samples_split=10; total time=   7.7s\n",
      "[CV 1/2] END max_depth=20, min_samples_leaf=1, min_samples_split=2; total time=   9.9s\n",
      "[CV 2/2] END max_depth=20, min_samples_leaf=1, min_samples_split=2; total time=   9.1s\n",
      "[CV 1/2] END max_depth=20, min_samples_leaf=1, min_samples_split=5; total time=   8.8s\n",
      "[CV 2/2] END max_depth=20, min_samples_leaf=1, min_samples_split=5; total time=   8.6s\n",
      "[CV 1/2] END max_depth=20, min_samples_leaf=1, min_samples_split=10; total time=   9.0s\n",
      "[CV 2/2] END max_depth=20, min_samples_leaf=1, min_samples_split=10; total time=  11.3s\n",
      "[CV 1/2] END max_depth=20, min_samples_leaf=2, min_samples_split=2; total time=   8.4s\n",
      "[CV 2/2] END max_depth=20, min_samples_leaf=2, min_samples_split=2; total time=   8.4s\n",
      "[CV 1/2] END max_depth=20, min_samples_leaf=2, min_samples_split=5; total time=   8.3s\n",
      "[CV 2/2] END max_depth=20, min_samples_leaf=2, min_samples_split=5; total time=   8.1s\n",
      "[CV 1/2] END max_depth=20, min_samples_leaf=2, min_samples_split=10; total time=   8.4s\n",
      "[CV 2/2] END max_depth=20, min_samples_leaf=2, min_samples_split=10; total time=   8.7s\n",
      "[CV 1/2] END max_depth=20, min_samples_leaf=4, min_samples_split=2; total time=   9.1s\n",
      "[CV 2/2] END max_depth=20, min_samples_leaf=4, min_samples_split=2; total time=   8.3s\n",
      "[CV 1/2] END max_depth=20, min_samples_leaf=4, min_samples_split=5; total time=   9.2s\n",
      "[CV 2/2] END max_depth=20, min_samples_leaf=4, min_samples_split=5; total time=  10.3s\n",
      "[CV 1/2] END max_depth=20, min_samples_leaf=4, min_samples_split=10; total time=  10.2s\n",
      "[CV 2/2] END max_depth=20, min_samples_leaf=4, min_samples_split=10; total time=  10.9s\n",
      "[CV 1/2] END max_depth=20, min_samples_leaf=8, min_samples_split=2; total time=   7.8s\n",
      "[CV 2/2] END max_depth=20, min_samples_leaf=8, min_samples_split=2; total time=   8.2s\n",
      "[CV 1/2] END max_depth=20, min_samples_leaf=8, min_samples_split=5; total time=  11.3s\n",
      "[CV 2/2] END max_depth=20, min_samples_leaf=8, min_samples_split=5; total time=  10.8s\n"
     ]
    },
    {
     "name": "stdout",
     "output_type": "stream",
     "text": [
      "[CV 1/2] END max_depth=20, min_samples_leaf=8, min_samples_split=10; total time=   9.0s\n",
      "[CV 2/2] END max_depth=20, min_samples_leaf=8, min_samples_split=10; total time=   8.2s\n",
      "[CV 1/2] END max_depth=30, min_samples_leaf=1, min_samples_split=2; total time=  11.1s\n",
      "[CV 2/2] END max_depth=30, min_samples_leaf=1, min_samples_split=2; total time=   9.1s\n",
      "[CV 1/2] END max_depth=30, min_samples_leaf=1, min_samples_split=5; total time=   8.6s\n",
      "[CV 2/2] END max_depth=30, min_samples_leaf=1, min_samples_split=5; total time=   8.4s\n",
      "[CV 1/2] END max_depth=30, min_samples_leaf=1, min_samples_split=10; total time=   9.2s\n",
      "[CV 2/2] END max_depth=30, min_samples_leaf=1, min_samples_split=10; total time=  12.1s\n",
      "[CV 1/2] END max_depth=30, min_samples_leaf=2, min_samples_split=2; total time=  15.8s\n",
      "[CV 2/2] END max_depth=30, min_samples_leaf=2, min_samples_split=2; total time=   9.7s\n",
      "[CV 1/2] END max_depth=30, min_samples_leaf=2, min_samples_split=5; total time=   9.3s\n",
      "[CV 2/2] END max_depth=30, min_samples_leaf=2, min_samples_split=5; total time=   9.0s\n",
      "[CV 1/2] END max_depth=30, min_samples_leaf=2, min_samples_split=10; total time=   9.3s\n",
      "[CV 2/2] END max_depth=30, min_samples_leaf=2, min_samples_split=10; total time=   9.0s\n",
      "[CV 1/2] END max_depth=30, min_samples_leaf=4, min_samples_split=2; total time=   9.1s\n",
      "[CV 2/2] END max_depth=30, min_samples_leaf=4, min_samples_split=2; total time=   8.9s\n",
      "[CV 1/2] END max_depth=30, min_samples_leaf=4, min_samples_split=5; total time=   9.0s\n",
      "[CV 2/2] END max_depth=30, min_samples_leaf=4, min_samples_split=5; total time=   8.9s\n",
      "[CV 1/2] END max_depth=30, min_samples_leaf=4, min_samples_split=10; total time=   8.9s\n",
      "[CV 2/2] END max_depth=30, min_samples_leaf=4, min_samples_split=10; total time=   8.6s\n",
      "[CV 1/2] END max_depth=30, min_samples_leaf=8, min_samples_split=2; total time=   8.6s\n",
      "[CV 2/2] END max_depth=30, min_samples_leaf=8, min_samples_split=2; total time=  11.5s\n",
      "[CV 1/2] END max_depth=30, min_samples_leaf=8, min_samples_split=5; total time=  12.6s\n",
      "[CV 2/2] END max_depth=30, min_samples_leaf=8, min_samples_split=5; total time=  10.9s\n",
      "[CV 1/2] END max_depth=30, min_samples_leaf=8, min_samples_split=10; total time=  11.2s\n",
      "[CV 2/2] END max_depth=30, min_samples_leaf=8, min_samples_split=10; total time=  10.3s\n"
     ]
    },
    {
     "data": {
      "text/plain": [
       "{'max_depth': 4, 'min_samples_leaf': 1, 'min_samples_split': 2}"
      ]
     },
     "execution_count": 37,
     "metadata": {},
     "output_type": "execute_result"
    }
   ],
   "source": [
    "from sklearn.tree import DecisionTreeClassifier\n",
    "\n",
    "params = {\n",
    "    'max_depth': [4, 8, 16, 20, 30],\n",
    "    'min_samples_leaf': [1, 2, 4, 8],\n",
    "    'min_samples_split': [2, 5, 10]\n",
    "}\n",
    "\n",
    "gs_tree = GridSearchCV(\n",
    "    DecisionTreeClassifier(random_state=42),\n",
    "    params,\n",
    "    scoring='f1',\n",
    "    verbose=3,\n",
    "    cv=2,\n",
    "    n_jobs=1\n",
    ")\n",
    "\n",
    "gs_tree.fit(X_train, y_train)\n",
    "gs_tree.best_params_"
   ]
  },
  {
   "cell_type": "code",
   "execution_count": 38,
   "id": "0be84480",
   "metadata": {
    "scrolled": false
   },
   "outputs": [
    {
     "name": "stdout",
     "output_type": "stream",
     "text": [
      "              precision    recall  f1-score   support\n",
      "\n",
      "        auto       0.57      0.84      0.68       135\n",
      "      health       0.86      0.89      0.88       195\n",
      "   incidents       0.48      0.75      0.59       128\n",
      "   transport       0.80      0.46      0.59       342\n",
      "\n",
      "    accuracy                           0.68       800\n",
      "   macro avg       0.68      0.74      0.68       800\n",
      "weighted avg       0.72      0.68      0.67       800\n",
      "\n"
     ]
    }
   ],
   "source": [
    "y_pred = gs_tree.predict(X_test)\n",
    "print(classification_report(y_pred, y_test))"
   ]
  },
  {
   "cell_type": "markdown",
   "id": "90d1d0ae",
   "metadata": {},
   "source": [
    "Overall, the dicision tree has achieved better scores than KNN"
   ]
  },
  {
   "cell_type": "markdown",
   "id": "c757a5db",
   "metadata": {},
   "source": [
    "#### 3.3 Random forest"
   ]
  },
  {
   "cell_type": "code",
   "execution_count": 46,
   "id": "1ca71d0d",
   "metadata": {},
   "outputs": [
    {
     "name": "stdout",
     "output_type": "stream",
     "text": [
      "Fitting 2 folds for each of 20 candidates, totalling 40 fits\n",
      "[CV 1/2] END max_depth=4, max_features=2, min_samples_leaf=1, min_samples_split=2, n_estimators=50; total time=   1.2s\n",
      "[CV 2/2] END max_depth=4, max_features=2, min_samples_leaf=1, min_samples_split=2, n_estimators=50; total time=   1.2s\n",
      "[CV 1/2] END max_depth=4, max_features=2, min_samples_leaf=1, min_samples_split=2, n_estimators=100; total time=   1.2s\n",
      "[CV 2/2] END max_depth=4, max_features=2, min_samples_leaf=1, min_samples_split=2, n_estimators=100; total time=   1.3s\n",
      "[CV 1/2] END max_depth=4, max_features=2, min_samples_leaf=1, min_samples_split=2, n_estimators=200; total time=   1.4s\n",
      "[CV 2/2] END max_depth=4, max_features=2, min_samples_leaf=1, min_samples_split=2, n_estimators=200; total time=   1.5s\n",
      "[CV 1/2] END max_depth=4, max_features=2, min_samples_leaf=1, min_samples_split=2, n_estimators=300; total time=   1.6s\n",
      "[CV 2/2] END max_depth=4, max_features=2, min_samples_leaf=1, min_samples_split=2, n_estimators=300; total time=   1.8s\n",
      "[CV 1/2] END max_depth=4, max_features=4, min_samples_leaf=1, min_samples_split=2, n_estimators=50; total time=   1.1s\n",
      "[CV 2/2] END max_depth=4, max_features=4, min_samples_leaf=1, min_samples_split=2, n_estimators=50; total time=   1.1s\n",
      "[CV 1/2] END max_depth=4, max_features=4, min_samples_leaf=1, min_samples_split=2, n_estimators=100; total time=   1.2s\n",
      "[CV 2/2] END max_depth=4, max_features=4, min_samples_leaf=1, min_samples_split=2, n_estimators=100; total time=   1.2s\n",
      "[CV 1/2] END max_depth=4, max_features=4, min_samples_leaf=1, min_samples_split=2, n_estimators=200; total time=   1.5s\n",
      "[CV 2/2] END max_depth=4, max_features=4, min_samples_leaf=1, min_samples_split=2, n_estimators=200; total time=   1.4s\n",
      "[CV 1/2] END max_depth=4, max_features=4, min_samples_leaf=1, min_samples_split=2, n_estimators=300; total time=   1.7s\n",
      "[CV 2/2] END max_depth=4, max_features=4, min_samples_leaf=1, min_samples_split=2, n_estimators=300; total time=   1.7s\n",
      "[CV 1/2] END max_depth=4, max_features=8, min_samples_leaf=1, min_samples_split=2, n_estimators=50; total time=   1.2s\n",
      "[CV 2/2] END max_depth=4, max_features=8, min_samples_leaf=1, min_samples_split=2, n_estimators=50; total time=   1.2s\n",
      "[CV 1/2] END max_depth=4, max_features=8, min_samples_leaf=1, min_samples_split=2, n_estimators=100; total time=   1.3s\n",
      "[CV 2/2] END max_depth=4, max_features=8, min_samples_leaf=1, min_samples_split=2, n_estimators=100; total time=   1.3s\n",
      "[CV 1/2] END max_depth=4, max_features=8, min_samples_leaf=1, min_samples_split=2, n_estimators=200; total time=   1.5s\n",
      "[CV 2/2] END max_depth=4, max_features=8, min_samples_leaf=1, min_samples_split=2, n_estimators=200; total time=   1.6s\n",
      "[CV 1/2] END max_depth=4, max_features=8, min_samples_leaf=1, min_samples_split=2, n_estimators=300; total time=   1.8s\n",
      "[CV 2/2] END max_depth=4, max_features=8, min_samples_leaf=1, min_samples_split=2, n_estimators=300; total time=   1.8s\n",
      "[CV 1/2] END max_depth=4, max_features=16, min_samples_leaf=1, min_samples_split=2, n_estimators=50; total time=   1.2s\n",
      "[CV 2/2] END max_depth=4, max_features=16, min_samples_leaf=1, min_samples_split=2, n_estimators=50; total time=   1.2s\n",
      "[CV 1/2] END max_depth=4, max_features=16, min_samples_leaf=1, min_samples_split=2, n_estimators=100; total time=   1.4s\n",
      "[CV 2/2] END max_depth=4, max_features=16, min_samples_leaf=1, min_samples_split=2, n_estimators=100; total time=   1.4s\n",
      "[CV 1/2] END max_depth=4, max_features=16, min_samples_leaf=1, min_samples_split=2, n_estimators=200; total time=   1.7s\n",
      "[CV 2/2] END max_depth=4, max_features=16, min_samples_leaf=1, min_samples_split=2, n_estimators=200; total time=   1.7s\n",
      "[CV 1/2] END max_depth=4, max_features=16, min_samples_leaf=1, min_samples_split=2, n_estimators=300; total time=   2.0s\n",
      "[CV 2/2] END max_depth=4, max_features=16, min_samples_leaf=1, min_samples_split=2, n_estimators=300; total time=   2.4s\n",
      "[CV 1/2] END max_depth=4, max_features=32, min_samples_leaf=1, min_samples_split=2, n_estimators=50; total time=   1.4s\n",
      "[CV 2/2] END max_depth=4, max_features=32, min_samples_leaf=1, min_samples_split=2, n_estimators=50; total time=   1.5s\n",
      "[CV 1/2] END max_depth=4, max_features=32, min_samples_leaf=1, min_samples_split=2, n_estimators=100; total time=   1.6s\n",
      "[CV 2/2] END max_depth=4, max_features=32, min_samples_leaf=1, min_samples_split=2, n_estimators=100; total time=   1.5s\n",
      "[CV 1/2] END max_depth=4, max_features=32, min_samples_leaf=1, min_samples_split=2, n_estimators=200; total time=   2.0s\n",
      "[CV 2/2] END max_depth=4, max_features=32, min_samples_leaf=1, min_samples_split=2, n_estimators=200; total time=   2.0s\n",
      "[CV 1/2] END max_depth=4, max_features=32, min_samples_leaf=1, min_samples_split=2, n_estimators=300; total time=   2.4s\n",
      "[CV 2/2] END max_depth=4, max_features=32, min_samples_leaf=1, min_samples_split=2, n_estimators=300; total time=   2.5s\n"
     ]
    },
    {
     "data": {
      "text/plain": [
       "{'max_depth': 4,\n",
       " 'max_features': 2,\n",
       " 'min_samples_leaf': 1,\n",
       " 'min_samples_split': 2,\n",
       " 'n_estimators': 50}"
      ]
     },
     "execution_count": 46,
     "metadata": {},
     "output_type": "execute_result"
    }
   ],
   "source": [
    "from sklearn.ensemble import RandomForestClassifier\n",
    "\n",
    "params = {\n",
    "    'n_estimators': [50, 100, 200, 300],\n",
    "    'max_features': [2, 4, 8, 16, 32],\n",
    "    'max_depth': [4],\n",
    "    'min_samples_leaf': [1],\n",
    "    'min_samples_split': [2]\n",
    "}\n",
    "\n",
    "gs_rforest = GridSearchCV(\n",
    "    RandomForestClassifier(random_state=42),\n",
    "    params,\n",
    "    scoring='f1',\n",
    "    verbose=3,\n",
    "    cv=2,\n",
    "    n_jobs=1\n",
    ")\n",
    "\n",
    "gs_rforest.fit(X_train, y_train)\n",
    "gs_rforest.best_params_"
   ]
  },
  {
   "cell_type": "code",
   "execution_count": 47,
   "id": "2fd34197",
   "metadata": {},
   "outputs": [
    {
     "name": "stdout",
     "output_type": "stream",
     "text": [
      "              precision    recall  f1-score   support\n",
      "\n",
      "        auto       0.39      0.74      0.51       105\n",
      "      health       0.64      0.71      0.67       180\n",
      "   incidents       0.86      0.37      0.51       468\n",
      "   transport       0.12      0.49      0.19        47\n",
      "\n",
      "    accuracy                           0.50       800\n",
      "   macro avg       0.50      0.58      0.47       800\n",
      "weighted avg       0.71      0.50      0.53       800\n",
      "\n"
     ]
    }
   ],
   "source": [
    "y_pred = gs_rforest.predict(X_test)\n",
    "print(classification_report(y_pred, y_test))"
   ]
  },
  {
   "cell_type": "markdown",
   "id": "67be0315",
   "metadata": {},
   "source": [
    "Weirdly, Random Forest has got worse results than decision tree"
   ]
  },
  {
   "cell_type": "markdown",
   "id": "43691b2d",
   "metadata": {},
   "source": [
    "#### 3.4 SVM"
   ]
  },
  {
   "cell_type": "code",
   "execution_count": 103,
   "id": "0b4433d4",
   "metadata": {},
   "outputs": [
    {
     "name": "stdout",
     "output_type": "stream",
     "text": [
      "Fitting 2 folds for each of 27 candidates, totalling 54 fits\n",
      "[CV 1/2] END .....................C=0.1, gamma=1, kernel=rbf; total time= 5.0min\n",
      "[CV 2/2] END .....................C=0.1, gamma=1, kernel=rbf; total time= 4.0min\n",
      "[CV 1/2] END ....................C=0.1, gamma=1, kernel=poly; total time= 3.2min\n",
      "[CV 2/2] END ....................C=0.1, gamma=1, kernel=poly; total time= 3.2min\n",
      "[CV 1/2] END .................C=0.1, gamma=1, kernel=sigmoid; total time= 2.9min\n",
      "[CV 2/2] END .................C=0.1, gamma=1, kernel=sigmoid; total time= 2.9min\n",
      "[CV 1/2] END ...................C=0.1, gamma=0.1, kernel=rbf; total time= 4.2min\n",
      "[CV 2/2] END ...................C=0.1, gamma=0.1, kernel=rbf; total time= 4.3min\n",
      "[CV 1/2] END ..................C=0.1, gamma=0.1, kernel=poly; total time= 3.5min\n",
      "[CV 2/2] END ..................C=0.1, gamma=0.1, kernel=poly; total time= 3.5min\n",
      "[CV 1/2] END ...............C=0.1, gamma=0.1, kernel=sigmoid; total time= 3.5min\n",
      "[CV 2/2] END ...............C=0.1, gamma=0.1, kernel=sigmoid; total time= 3.5min\n",
      "[CV 1/2] END ..................C=0.1, gamma=0.01, kernel=rbf; total time= 4.1min\n",
      "[CV 2/2] END ..................C=0.1, gamma=0.01, kernel=rbf; total time= 4.0min\n",
      "[CV 1/2] END .................C=0.1, gamma=0.01, kernel=poly; total time= 3.4min\n",
      "[CV 2/2] END .................C=0.1, gamma=0.01, kernel=poly; total time= 3.6min\n",
      "[CV 1/2] END ..............C=0.1, gamma=0.01, kernel=sigmoid; total time= 3.7min\n",
      "[CV 2/2] END ..............C=0.1, gamma=0.01, kernel=sigmoid; total time= 4.2min\n",
      "[CV 1/2] END .......................C=1, gamma=1, kernel=rbf; total time= 4.5min\n",
      "[CV 2/2] END .......................C=1, gamma=1, kernel=rbf; total time= 5.1min\n",
      "[CV 1/2] END ......................C=1, gamma=1, kernel=poly; total time= 3.9min\n",
      "[CV 2/2] END ......................C=1, gamma=1, kernel=poly; total time= 4.1min\n",
      "[CV 1/2] END ...................C=1, gamma=1, kernel=sigmoid; total time= 2.3min\n",
      "[CV 2/2] END ...................C=1, gamma=1, kernel=sigmoid; total time= 2.1min\n",
      "[CV 1/2] END .....................C=1, gamma=0.1, kernel=rbf; total time= 3.0min\n",
      "[CV 2/2] END .....................C=1, gamma=0.1, kernel=rbf; total time= 2.9min\n",
      "[CV 1/2] END ....................C=1, gamma=0.1, kernel=poly; total time= 3.1min\n",
      "[CV 2/2] END ....................C=1, gamma=0.1, kernel=poly; total time= 3.1min\n",
      "[CV 1/2] END .................C=1, gamma=0.1, kernel=sigmoid; total time= 2.6min\n",
      "[CV 2/2] END .................C=1, gamma=0.1, kernel=sigmoid; total time= 2.6min\n",
      "[CV 1/2] END ....................C=1, gamma=0.01, kernel=rbf; total time= 3.8min\n",
      "[CV 2/2] END ....................C=1, gamma=0.01, kernel=rbf; total time= 3.8min\n",
      "[CV 1/2] END ...................C=1, gamma=0.01, kernel=poly; total time= 3.1min\n",
      "[CV 2/2] END ...................C=1, gamma=0.01, kernel=poly; total time= 3.1min\n",
      "[CV 1/2] END ................C=1, gamma=0.01, kernel=sigmoid; total time= 3.2min\n",
      "[CV 2/2] END ................C=1, gamma=0.01, kernel=sigmoid; total time= 3.2min\n",
      "[CV 1/2] END ......................C=10, gamma=1, kernel=rbf; total time= 3.7min\n",
      "[CV 2/2] END ......................C=10, gamma=1, kernel=rbf; total time= 3.9min\n",
      "[CV 1/2] END .....................C=10, gamma=1, kernel=poly; total time= 3.9min\n",
      "[CV 2/2] END .....................C=10, gamma=1, kernel=poly; total time= 4.3min\n",
      "[CV 1/2] END ..................C=10, gamma=1, kernel=sigmoid; total time= 2.7min\n",
      "[CV 2/2] END ..................C=10, gamma=1, kernel=sigmoid; total time= 2.2min\n",
      "[CV 1/2] END ....................C=10, gamma=0.1, kernel=rbf; total time= 3.3min\n",
      "[CV 2/2] END ....................C=10, gamma=0.1, kernel=rbf; total time= 3.1min\n",
      "[CV 1/2] END ...................C=10, gamma=0.1, kernel=poly; total time= 4.5min\n",
      "[CV 2/2] END ...................C=10, gamma=0.1, kernel=poly; total time= 4.2min\n",
      "[CV 1/2] END ................C=10, gamma=0.1, kernel=sigmoid; total time= 2.6min\n",
      "[CV 2/2] END ................C=10, gamma=0.1, kernel=sigmoid; total time= 2.6min\n",
      "[CV 1/2] END ...................C=10, gamma=0.01, kernel=rbf; total time= 3.1min\n",
      "[CV 2/2] END ...................C=10, gamma=0.01, kernel=rbf; total time= 3.1min\n",
      "[CV 1/2] END ..................C=10, gamma=0.01, kernel=poly; total time= 3.9min\n",
      "[CV 2/2] END ..................C=10, gamma=0.01, kernel=poly; total time= 4.3min\n",
      "[CV 1/2] END ...............C=10, gamma=0.01, kernel=sigmoid; total time= 6.1min\n",
      "[CV 2/2] END ...............C=10, gamma=0.01, kernel=sigmoid; total time= 8.9min\n"
     ]
    },
    {
     "data": {
      "text/plain": [
       "{'C': 0.1, 'gamma': 1, 'kernel': 'rbf'}"
      ]
     },
     "execution_count": 103,
     "metadata": {},
     "output_type": "execute_result"
    }
   ],
   "source": [
    "from sklearn.svm import SVC\n",
    "\n",
    "params = {\n",
    "    'C': [0.1, 1, 10], \n",
    "    'gamma': [1, 0.1, 0.01], \n",
    "    'kernel': ['rbf', 'poly', 'sigmoid']\n",
    "}\n",
    "\n",
    "gs_svm = GridSearchCV(\n",
    "    SVC(random_state=42),\n",
    "    params,\n",
    "    scoring='f1',\n",
    "    verbose=3,\n",
    "    cv=2,\n",
    "    n_jobs=1\n",
    ")\n",
    "\n",
    "\n",
    "gs_svm.fit(X_train, y_train)\n",
    "gs_svm.best_params_"
   ]
  },
  {
   "cell_type": "code",
   "execution_count": 104,
   "id": "2d27d8a5",
   "metadata": {},
   "outputs": [
    {
     "name": "stdout",
     "output_type": "stream",
     "text": [
      "              precision    recall  f1-score   support\n",
      "\n",
      "        auto       0.77      0.81      0.79       189\n",
      "      health       0.85      0.99      0.91       172\n",
      "   incidents       0.94      0.85      0.89       219\n",
      "   transport       0.83      0.76      0.80       220\n",
      "\n",
      "    accuracy                           0.85       800\n",
      "   macro avg       0.85      0.85      0.85       800\n",
      "weighted avg       0.85      0.85      0.85       800\n",
      "\n"
     ]
    }
   ],
   "source": [
    "y_pred = gs_svm.predict(X_test)\n",
    "print(classification_report(y_pred, y_test))"
   ]
  },
  {
   "cell_type": "markdown",
   "id": "e9b59558",
   "metadata": {},
   "source": [
    "#### 3.5 Logistic Regression"
   ]
  },
  {
   "cell_type": "code",
   "execution_count": 42,
   "id": "25f18139",
   "metadata": {},
   "outputs": [
    {
     "name": "stdout",
     "output_type": "stream",
     "text": [
      "Fitting 2 folds for each of 32 candidates, totalling 64 fits\n",
      "[CV 1/2] END ..........C=0.1, penalty=none, solver=newton-cg; total time=  41.7s\n",
      "[CV 2/2] END ..........C=0.1, penalty=none, solver=newton-cg; total time=  47.6s\n",
      "[CV 1/2] END ..............C=0.1, penalty=none, solver=lbfgs; total time=  14.9s\n",
      "[CV 2/2] END ..............C=0.1, penalty=none, solver=lbfgs; total time=  20.1s\n",
      "[CV 1/2] END ............C=0.1, penalty=l1, solver=newton-cg; total time=   0.5s\n",
      "[CV 2/2] END ............C=0.1, penalty=l1, solver=newton-cg; total time=   0.4s\n",
      "[CV 1/2] END ................C=0.1, penalty=l1, solver=lbfgs; total time=   0.5s\n",
      "[CV 2/2] END ................C=0.1, penalty=l1, solver=lbfgs; total time=   0.4s\n",
      "[CV 1/2] END ............C=0.1, penalty=l2, solver=newton-cg; total time=  13.9s\n",
      "[CV 2/2] END ............C=0.1, penalty=l2, solver=newton-cg; total time=  10.5s\n",
      "[CV 1/2] END ................C=0.1, penalty=l2, solver=lbfgs; total time=   9.5s\n",
      "[CV 2/2] END ................C=0.1, penalty=l2, solver=lbfgs; total time=   8.3s\n",
      "[CV 1/2] END ....C=0.1, penalty=elasticnet, solver=newton-cg; total time=   0.4s\n",
      "[CV 2/2] END ....C=0.1, penalty=elasticnet, solver=newton-cg; total time=   0.5s\n",
      "[CV 1/2] END ........C=0.1, penalty=elasticnet, solver=lbfgs; total time=   0.5s\n",
      "[CV 2/2] END ........C=0.1, penalty=elasticnet, solver=lbfgs; total time=   0.5s\n",
      "[CV 1/2] END ............C=1, penalty=none, solver=newton-cg; total time=  42.1s\n",
      "[CV 2/2] END ............C=1, penalty=none, solver=newton-cg; total time=  51.1s\n",
      "[CV 1/2] END ................C=1, penalty=none, solver=lbfgs; total time=  13.5s\n",
      "[CV 2/2] END ................C=1, penalty=none, solver=lbfgs; total time=  19.6s\n",
      "[CV 1/2] END ..............C=1, penalty=l1, solver=newton-cg; total time=   0.4s\n",
      "[CV 2/2] END ..............C=1, penalty=l1, solver=newton-cg; total time=   0.5s\n",
      "[CV 1/2] END ..................C=1, penalty=l1, solver=lbfgs; total time=   0.4s\n",
      "[CV 2/2] END ..................C=1, penalty=l1, solver=lbfgs; total time=   0.4s\n",
      "[CV 1/2] END ..............C=1, penalty=l2, solver=newton-cg; total time=  20.2s\n",
      "[CV 2/2] END ..............C=1, penalty=l2, solver=newton-cg; total time=  19.8s\n",
      "[CV 1/2] END ..................C=1, penalty=l2, solver=lbfgs; total time=  20.4s\n",
      "[CV 2/2] END ..................C=1, penalty=l2, solver=lbfgs; total time=  19.9s\n",
      "[CV 1/2] END ......C=1, penalty=elasticnet, solver=newton-cg; total time=   0.4s\n",
      "[CV 2/2] END ......C=1, penalty=elasticnet, solver=newton-cg; total time=   0.5s\n",
      "[CV 1/2] END ..........C=1, penalty=elasticnet, solver=lbfgs; total time=   0.4s\n",
      "[CV 2/2] END ..........C=1, penalty=elasticnet, solver=lbfgs; total time=   0.4s\n",
      "[CV 1/2] END ...........C=10, penalty=none, solver=newton-cg; total time=  39.5s\n",
      "[CV 2/2] END ...........C=10, penalty=none, solver=newton-cg; total time=  40.1s\n",
      "[CV 1/2] END ...............C=10, penalty=none, solver=lbfgs; total time=  11.5s\n",
      "[CV 2/2] END ...............C=10, penalty=none, solver=lbfgs; total time=  19.2s\n",
      "[CV 1/2] END .............C=10, penalty=l1, solver=newton-cg; total time=   0.5s\n",
      "[CV 2/2] END .............C=10, penalty=l1, solver=newton-cg; total time=   0.5s\n",
      "[CV 1/2] END .................C=10, penalty=l1, solver=lbfgs; total time=   0.5s\n",
      "[CV 2/2] END .................C=10, penalty=l1, solver=lbfgs; total time=   0.5s\n",
      "[CV 1/2] END .............C=10, penalty=l2, solver=newton-cg; total time=  28.7s\n",
      "[CV 2/2] END .............C=10, penalty=l2, solver=newton-cg; total time=  26.4s\n",
      "[CV 1/2] END .................C=10, penalty=l2, solver=lbfgs; total time=  31.8s\n",
      "[CV 2/2] END .................C=10, penalty=l2, solver=lbfgs; total time=  33.8s\n",
      "[CV 1/2] END .....C=10, penalty=elasticnet, solver=newton-cg; total time=   0.4s\n",
      "[CV 2/2] END .....C=10, penalty=elasticnet, solver=newton-cg; total time=   0.4s\n",
      "[CV 1/2] END .........C=10, penalty=elasticnet, solver=lbfgs; total time=   0.4s\n",
      "[CV 2/2] END .........C=10, penalty=elasticnet, solver=lbfgs; total time=   0.5s\n",
      "[CV 1/2] END ..........C=100, penalty=none, solver=newton-cg; total time=  39.3s\n",
      "[CV 2/2] END ..........C=100, penalty=none, solver=newton-cg; total time=  46.5s\n",
      "[CV 1/2] END ..............C=100, penalty=none, solver=lbfgs; total time=  13.3s\n",
      "[CV 2/2] END ..............C=100, penalty=none, solver=lbfgs; total time=  16.9s\n",
      "[CV 1/2] END ............C=100, penalty=l1, solver=newton-cg; total time=   0.4s\n",
      "[CV 2/2] END ............C=100, penalty=l1, solver=newton-cg; total time=   0.5s\n",
      "[CV 1/2] END ................C=100, penalty=l1, solver=lbfgs; total time=   0.4s\n",
      "[CV 2/2] END ................C=100, penalty=l1, solver=lbfgs; total time=   0.4s\n",
      "[CV 1/2] END ............C=100, penalty=l2, solver=newton-cg; total time=  29.4s\n",
      "[CV 2/2] END ............C=100, penalty=l2, solver=newton-cg; total time=  35.2s\n",
      "[CV 1/2] END ................C=100, penalty=l2, solver=lbfgs; total time=  24.7s\n",
      "[CV 2/2] END ................C=100, penalty=l2, solver=lbfgs; total time=  22.1s\n",
      "[CV 1/2] END ....C=100, penalty=elasticnet, solver=newton-cg; total time=   0.3s\n",
      "[CV 2/2] END ....C=100, penalty=elasticnet, solver=newton-cg; total time=   0.3s\n",
      "[CV 1/2] END ........C=100, penalty=elasticnet, solver=lbfgs; total time=   0.3s\n",
      "[CV 2/2] END ........C=100, penalty=elasticnet, solver=lbfgs; total time=   0.3s\n"
     ]
    },
    {
     "data": {
      "text/plain": [
       "{'C': 0.1, 'penalty': 'none', 'solver': 'newton-cg'}"
      ]
     },
     "execution_count": 42,
     "metadata": {},
     "output_type": "execute_result"
    }
   ],
   "source": [
    "from sklearn.linear_model import LogisticRegression\n",
    "\n",
    "params = {\n",
    "    'C': [0.1, 1, 10, 100],\n",
    "    'penalty': ['none', 'l1', 'l2', 'elasticnet'],\n",
    "    'solver': ['newton-cg', 'lbfgs']\n",
    "}\n",
    "\n",
    "gs_logreg = GridSearchCV(\n",
    "    LogisticRegression(random_state=42),\n",
    "    params,\n",
    "    scoring='f1',\n",
    "    verbose=3,\n",
    "    cv=2,\n",
    "    n_jobs=1\n",
    ")\n",
    "\n",
    "gs_logreg.fit(X_train, y_train)\n",
    "gs_logreg.best_params_"
   ]
  },
  {
   "cell_type": "code",
   "execution_count": 43,
   "id": "d6eb6e20",
   "metadata": {},
   "outputs": [
    {
     "name": "stdout",
     "output_type": "stream",
     "text": [
      "              precision    recall  f1-score   support\n",
      "\n",
      "        auto       0.86      0.90      0.88       191\n",
      "      health       0.95      0.98      0.97       194\n",
      "   incidents       0.93      0.88      0.90       212\n",
      "   transport       0.85      0.84      0.84       203\n",
      "\n",
      "    accuracy                           0.90       800\n",
      "   macro avg       0.90      0.90      0.90       800\n",
      "weighted avg       0.90      0.90      0.90       800\n",
      "\n"
     ]
    }
   ],
   "source": [
    "y_pred = gs_logreg.predict(X_test)\n",
    "print(classification_report(y_pred, y_test))"
   ]
  },
  {
   "cell_type": "markdown",
   "id": "eea86613",
   "metadata": {},
   "source": [
    "#### 3.6 Ridge Regression"
   ]
  },
  {
   "cell_type": "code",
   "execution_count": 44,
   "id": "a50c0ace",
   "metadata": {},
   "outputs": [
    {
     "name": "stdout",
     "output_type": "stream",
     "text": [
      "Fitting 2 folds for each of 10 candidates, totalling 20 fits\n",
      "[CV 1/2] END ......................................alpha=0.1; total time=   3.6s\n",
      "[CV 2/2] END ......................................alpha=0.1; total time=   3.6s\n",
      "[CV 1/2] END ......................................alpha=0.2; total time=   3.3s\n",
      "[CV 2/2] END ......................................alpha=0.2; total time=   3.4s\n",
      "[CV 1/2] END ......................................alpha=0.3; total time=   3.4s\n",
      "[CV 2/2] END ......................................alpha=0.3; total time=   3.4s\n",
      "[CV 1/2] END ......................................alpha=0.4; total time=   3.4s\n",
      "[CV 2/2] END ......................................alpha=0.4; total time=   3.4s\n",
      "[CV 1/2] END ......................................alpha=0.5; total time=   3.4s\n",
      "[CV 2/2] END ......................................alpha=0.5; total time=   3.3s\n",
      "[CV 1/2] END ......................................alpha=0.6; total time=   3.4s\n",
      "[CV 2/2] END ......................................alpha=0.6; total time=   4.0s\n",
      "[CV 1/2] END ......................................alpha=0.7; total time=   3.3s\n",
      "[CV 2/2] END ......................................alpha=0.7; total time=   3.3s\n",
      "[CV 1/2] END ......................................alpha=0.8; total time=   3.4s\n",
      "[CV 2/2] END ......................................alpha=0.8; total time=   3.3s\n",
      "[CV 1/2] END ......................................alpha=0.9; total time=   3.5s\n",
      "[CV 2/2] END ......................................alpha=0.9; total time=   3.3s\n",
      "[CV 1/2] END ......................................alpha=1.0; total time=   3.5s\n",
      "[CV 2/2] END ......................................alpha=1.0; total time=   3.4s\n"
     ]
    },
    {
     "data": {
      "text/plain": [
       "{'alpha': 0.1}"
      ]
     },
     "execution_count": 44,
     "metadata": {},
     "output_type": "execute_result"
    }
   ],
   "source": [
    "from sklearn.linear_model import RidgeClassifier\n",
    "\n",
    "params = {\n",
    "    'alpha': [0.1, 0.2, 0.3, 0.4, 0.5, 0.6, 0.7, 0.8, 0.9, 1.0]\n",
    "}\n",
    "\n",
    "gs_ridgereg = GridSearchCV(\n",
    "    RidgeClassifier(random_state=42),\n",
    "    params,\n",
    "    scoring='f1',\n",
    "    verbose=3,\n",
    "    cv=2,\n",
    "    n_jobs=1\n",
    ")\n",
    "\n",
    "gs_ridgereg.fit(X_train, y_train)\n",
    "gs_ridgereg.best_params_"
   ]
  },
  {
   "cell_type": "code",
   "execution_count": 45,
   "id": "8da5ad47",
   "metadata": {
    "scrolled": true
   },
   "outputs": [
    {
     "name": "stdout",
     "output_type": "stream",
     "text": [
      "              precision    recall  f1-score   support\n",
      "\n",
      "        auto       0.87      0.89      0.88       196\n",
      "      health       0.96      0.97      0.97       197\n",
      "   incidents       0.91      0.89      0.90       204\n",
      "   transport       0.85      0.84      0.85       203\n",
      "\n",
      "    accuracy                           0.90       800\n",
      "   macro avg       0.90      0.90      0.90       800\n",
      "weighted avg       0.90      0.90      0.90       800\n",
      "\n"
     ]
    }
   ],
   "source": [
    "y_pred = gs_ridgereg.predict(X_test)\n",
    "print(classification_report(y_pred, y_test))"
   ]
  },
  {
   "cell_type": "markdown",
   "id": "43492a06",
   "metadata": {},
   "source": [
    "### 4. Comparison"
   ]
  },
  {
   "cell_type": "markdown",
   "id": "38b1bbeb",
   "metadata": {},
   "source": [
    "Let's print out all the classification reports at once"
   ]
  },
  {
   "cell_type": "code",
   "execution_count": 105,
   "id": "89d2355f",
   "metadata": {},
   "outputs": [
    {
     "name": "stdout",
     "output_type": "stream",
     "text": [
      "KNN:\n",
      "              precision    recall  f1-score   support\n",
      "\n",
      "        auto       0.97      0.31      0.47       634\n",
      "      health       0.27      0.98      0.42        55\n",
      "   incidents       0.18      0.90      0.30        40\n",
      "   transport       0.32      0.90      0.47        71\n",
      "\n",
      "    accuracy                           0.44       800\n",
      "   macro avg       0.44      0.77      0.42       800\n",
      "weighted avg       0.83      0.44      0.46       800\n",
      "\n",
      "Decision Tree:\n",
      "              precision    recall  f1-score   support\n",
      "\n",
      "        auto       0.57      0.84      0.68       135\n",
      "      health       0.86      0.89      0.88       195\n",
      "   incidents       0.48      0.75      0.59       128\n",
      "   transport       0.80      0.46      0.59       342\n",
      "\n",
      "    accuracy                           0.68       800\n",
      "   macro avg       0.68      0.74      0.68       800\n",
      "weighted avg       0.72      0.68      0.67       800\n",
      "\n",
      "SVM:\n",
      "              precision    recall  f1-score   support\n",
      "\n",
      "        auto       0.77      0.81      0.79       189\n",
      "      health       0.85      0.99      0.91       172\n",
      "   incidents       0.94      0.85      0.89       219\n",
      "   transport       0.83      0.76      0.80       220\n",
      "\n",
      "    accuracy                           0.85       800\n",
      "   macro avg       0.85      0.85      0.85       800\n",
      "weighted avg       0.85      0.85      0.85       800\n",
      "\n",
      "Random Forest:\n",
      "              precision    recall  f1-score   support\n",
      "\n",
      "        auto       0.39      0.74      0.51       105\n",
      "      health       0.64      0.71      0.67       180\n",
      "   incidents       0.86      0.37      0.51       468\n",
      "   transport       0.12      0.49      0.19        47\n",
      "\n",
      "    accuracy                           0.50       800\n",
      "   macro avg       0.50      0.58      0.47       800\n",
      "weighted avg       0.71      0.50      0.53       800\n",
      "\n",
      "Logistic Regression:\n",
      "              precision    recall  f1-score   support\n",
      "\n",
      "        auto       0.86      0.90      0.88       191\n",
      "      health       0.95      0.98      0.97       194\n",
      "   incidents       0.93      0.88      0.90       212\n",
      "   transport       0.85      0.84      0.84       203\n",
      "\n",
      "    accuracy                           0.90       800\n",
      "   macro avg       0.90      0.90      0.90       800\n",
      "weighted avg       0.90      0.90      0.90       800\n",
      "\n",
      "Ridge Regression:\n",
      "              precision    recall  f1-score   support\n",
      "\n",
      "        auto       0.87      0.89      0.88       196\n",
      "      health       0.96      0.97      0.97       197\n",
      "   incidents       0.91      0.89      0.90       204\n",
      "   transport       0.85      0.84      0.85       203\n",
      "\n",
      "    accuracy                           0.90       800\n",
      "   macro avg       0.90      0.90      0.90       800\n",
      "weighted avg       0.90      0.90      0.90       800\n",
      "\n"
     ]
    }
   ],
   "source": [
    "y_pred_knn = gs_knn.predict(X_test)\n",
    "print(\"KNN:\")\n",
    "print(classification_report(y_pred_knn, y_test))\n",
    "\n",
    "y_pred_tree = gs_tree.predict(X_test)\n",
    "print(\"Decision Tree:\")\n",
    "print(classification_report(y_pred_tree, y_test))\n",
    "\n",
    "y_pred_svm = gs_svm.predict(X_test)\n",
    "print(\"SVM:\")\n",
    "print(classification_report(y_pred_svm, y_test))\n",
    "\n",
    "y_pred_rforest = gs_rforest.predict(X_test)\n",
    "print(\"Random Forest:\")\n",
    "print(classification_report(y_pred_rforest, y_test))\n",
    "\n",
    "y_pred_logreg = gs_logreg.predict(X_test)\n",
    "print(\"Logistic Regression:\")\n",
    "print(classification_report(y_pred_logreg, y_test))\n",
    "\n",
    "y_pred_ridgereg = gs_ridgereg.predict(X_test)\n",
    "print(\"Ridge Regression:\")\n",
    "print(classification_report(y_pred_ridgereg, y_test))"
   ]
  },
  {
   "cell_type": "markdown",
   "id": "fc30720e",
   "metadata": {},
   "source": [
    "The best scores have been achieved by Logistic Regression and Ridge Regression. The f-1 score values are the same and precision, recall and accuracy score differ no more than by 0.01.\n",
    "\n",
    "Let's compare ROC AUC values:"
   ]
  },
  {
   "cell_type": "code",
   "execution_count": 102,
   "id": "544e03be",
   "metadata": {},
   "outputs": [
    {
     "data": {
      "text/plain": [
       "Text(0.5, 1.0, 'ROC AUC values')"
      ]
     },
     "execution_count": 102,
     "metadata": {},
     "output_type": "execute_result"
    },
    {
     "data": {
      "image/png": "[encoded data removed]",
      "text/plain": [
       "<Figure size 432x288 with 1 Axes>"
      ]
     },
     "metadata": {
      "needs_background": "light"
     },
     "output_type": "display_data"
    }
   ],
   "source": [
    "from sklearn.metrics import roc_auc_score\n",
    "from sklearn.preprocessing import OneHotEncoder\n",
    "\n",
    "encoder = OneHotEncoder()\n",
    "encoder.fit(np.array(categories).reshape(-1, 1))\n",
    "encoder.transform(np.array(y_test).reshape(-1, 1))\n",
    "\n",
    "roc_auc_ridgereg = roc_auc_score(\n",
    "    encoder.transform(np.array(y_test).reshape(-1, 1)).toarray(),\n",
    "    encoder.transform(np.array(y_pred_ridgereg).reshape(-1, 1)).toarray(), \n",
    "    multi_class='ovr'\n",
    ")\n",
    "\n",
    "roc_auc_logreg = roc_auc_score(\n",
    "    encoder.transform(np.array(y_test).reshape(-1, 1)).toarray(),\n",
    "    encoder.transform(np.array(y_pred_logreg).reshape(-1, 1)).toarray(), \n",
    "    multi_class='ovr'\n",
    ")\n",
    "\n",
    "fig, ax = plt.subplots()\n",
    "ax.bar([f'Ridge Regression ({round(roc_auc_ridgereg, 5)})', f'Logistic Regression ({roc_auc_logreg})'], [roc_auc_ridgereg, roc_auc_logreg])\n",
    "ax.set_title('ROC AUC values')"
   ]
  },
  {
   "cell_type": "markdown",
   "id": "84d691e4",
   "metadata": {},
   "source": [
    "ROC AUC values are also the same. \n",
    "\n",
    "Thus, the best ML models are Logistic and Linear Regression with f-1 scores of 0.9"
   ]
  }
 ],
 "metadata": {
  "kernelspec": {
   "display_name": "Python 3",
   "language": "python",
   "name": "python3"
  },
  "language_info": {
   "codemirror_mode": {
    "name": "ipython",
    "version": 3
   },
   "file_extension": ".py",
   "mimetype": "text/x-python",
   "name": "python",
   "nbconvert_exporter": "python",
   "pygments_lexer": "ipython3",
   "version": "3.8.8"
  }
 },
 "nbformat": 4,
 "nbformat_minor": 5
}
